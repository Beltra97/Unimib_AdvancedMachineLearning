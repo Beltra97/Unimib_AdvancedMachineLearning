{
  "nbformat": 4,
  "nbformat_minor": 0,
  "metadata": {
    "accelerator": "GPU",
    "colab": {
      "name": "Fabio_Beltramelli_816912.ipynb",
      "provenance": [],
      "collapsed_sections": [],
      "toc_visible": true
    },
    "kernelspec": {
      "display_name": "Python 3",
      "language": "python",
      "name": "python3"
    },
    "language_info": {
      "codemirror_mode": {
        "name": "ipython",
        "version": 3
      },
      "file_extension": ".py",
      "mimetype": "text/x-python",
      "name": "python",
      "nbconvert_exporter": "python",
      "pygments_lexer": "ipython3",
      "version": "3.6.9"
    }
  },
  "cells": [
    {
      "cell_type": "markdown",
      "metadata": {
        "id": "7I6sONMDr4Ct"
      },
      "source": [
        "# Import Librerie"
      ]
    },
    {
      "cell_type": "code",
      "metadata": {
        "id": "AfZfXGbKLPIc"
      },
      "source": [
        "from keras import *\n",
        "import tensorflow as tf\n",
        "import pandas as pd\n",
        "import numpy as np\n",
        "from sklearn.model_selection import train_test_split\n",
        "from sklearn.metrics import mean_squared_error\n",
        "import matplotlib.pyplot as plt\n",
        "from keras.layers import Activation, LeakyReLU, Dropout\n",
        "from keras.optimizers import SGD\n",
        "from tensorflow.keras.activations import sigmoid\n",
        "from keras.utils.generic_utils import get_custom_objects\n",
        "from keras import backend as K\n",
        "from sklearn.preprocessing import StandardScaler, MinMaxScaler\n",
        "import os \n",
        "import statistics\n",
        "import seaborn as sns\n",
        "import matplotlib.pyplot as plt\n",
        "sns.set(style=\"ticks\", color_codes=True)"
      ],
      "execution_count": 126,
      "outputs": []
    },
    {
      "cell_type": "markdown",
      "metadata": {
        "id": "SmAbUTQaFXoZ"
      },
      "source": [
        "# Import File"
      ]
    },
    {
      "cell_type": "code",
      "metadata": {
        "id": "YpzR9X2GFgYw",
        "outputId": "998114c1-6e9e-4446-a982-76d0d49b13c7",
        "colab": {
          "resources": {
            "http://localhost:8080/nbextensions/google.colab/files.js": {
              "data": "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",
              "ok": true,
              "headers": [
                [
                  "content-type",
                  "application/javascript"
                ]
              ],
              "status": 200,
              "status_text": ""
            }
          },
          "base_uri": "https://localhost:8080/",
          "height": 55
        }
      },
      "source": [
        "# Commands if you are using google colab\n",
        "\n",
        "from google.colab import files\n",
        "files.upload()"
      ],
      "execution_count": 73,
      "outputs": [
        {
          "output_type": "display_data",
          "data": {
            "text/html": [
              "\n",
              "     <input type=\"file\" id=\"files-b2c78b10-5053-4546-ac48-81b0fd5cc577\" name=\"files[]\" multiple disabled\n",
              "        style=\"border:none\" />\n",
              "     <output id=\"result-b2c78b10-5053-4546-ac48-81b0fd5cc577\">\n",
              "      Upload widget is only available when the cell has been executed in the\n",
              "      current browser session. Please rerun this cell to enable.\n",
              "      </output>\n",
              "      <script src=\"/nbextensions/google.colab/files.js\"></script> "
            ],
            "text/plain": [
              "<IPython.core.display.HTML object>"
            ]
          },
          "metadata": {
            "tags": []
          }
        },
        {
          "output_type": "execute_result",
          "data": {
            "text/plain": [
              "{}"
            ]
          },
          "metadata": {
            "tags": []
          },
          "execution_count": 73
        }
      ]
    },
    {
      "cell_type": "markdown",
      "metadata": {
        "id": "HjSCBoRRFHTj"
      },
      "source": [
        "## Utility"
      ]
    },
    {
      "cell_type": "code",
      "metadata": {
        "id": "7ZWJjRr4FHTk"
      },
      "source": [
        "def preprocess_data(X, scaler=None):\n",
        "    \"\"\"Preprocess input data by standardise features \n",
        "    by removing the mean and scaling to unit variance\"\"\"\n",
        "    if not scaler:\n",
        "        scaler = MinMaxScaler()\n",
        "        scaler.fit(X)\n",
        "    X = scaler.transform(X)\n",
        "    return X, scaler"
      ],
      "execution_count": 127,
      "outputs": []
    },
    {
      "cell_type": "markdown",
      "metadata": {
        "id": "EAE2JZ7SZNQI"
      },
      "source": [
        "## Caricamento Dati & Analisi iniziale"
      ]
    },
    {
      "cell_type": "code",
      "metadata": {
        "id": "evU73kzXZRD9"
      },
      "source": [
        "x_train = pd.read_csv(\"X_train.csv\")\n",
        "y_train = pd.read_csv(\"y_train.csv\")\n",
        "\n",
        "#Rimozione Colonne ID\n",
        "x_train.drop(['Unnamed: 0'], axis=1, inplace=True)\n",
        "y_train.drop(['Unnamed: 0'], axis=1, inplace=True)"
      ],
      "execution_count": 128,
      "outputs": []
    },
    {
      "cell_type": "code",
      "metadata": {
        "id": "smsYHvezFHT4",
        "outputId": "0b2e1ca6-0fd0-4106-d56b-e4192a37b74b",
        "colab": {
          "base_uri": "https://localhost:8080/",
          "height": 224
        }
      },
      "source": [
        "x_train.head()"
      ],
      "execution_count": 6,
      "outputs": [
        {
          "output_type": "execute_result",
          "data": {
            "text/html": [
              "<div>\n",
              "<style scoped>\n",
              "    .dataframe tbody tr th:only-of-type {\n",
              "        vertical-align: middle;\n",
              "    }\n",
              "\n",
              "    .dataframe tbody tr th {\n",
              "        vertical-align: top;\n",
              "    }\n",
              "\n",
              "    .dataframe thead th {\n",
              "        text-align: right;\n",
              "    }\n",
              "</style>\n",
              "<table border=\"1\" class=\"dataframe\">\n",
              "  <thead>\n",
              "    <tr style=\"text-align: right;\">\n",
              "      <th></th>\n",
              "      <th>latitude</th>\n",
              "      <th>longitude</th>\n",
              "      <th>minimum_nights</th>\n",
              "      <th>number_of_reviews</th>\n",
              "      <th>reviews_per_month</th>\n",
              "      <th>calculated_host_listings_count</th>\n",
              "      <th>availability_365</th>\n",
              "      <th>Private_room</th>\n",
              "      <th>Entire_home/apt</th>\n",
              "    </tr>\n",
              "  </thead>\n",
              "  <tbody>\n",
              "    <tr>\n",
              "      <th>0</th>\n",
              "      <td>40.71239</td>\n",
              "      <td>-73.95271</td>\n",
              "      <td>4</td>\n",
              "      <td>2</td>\n",
              "      <td>0.19</td>\n",
              "      <td>1</td>\n",
              "      <td>0</td>\n",
              "      <td>1</td>\n",
              "      <td>0</td>\n",
              "    </tr>\n",
              "    <tr>\n",
              "      <th>1</th>\n",
              "      <td>40696.00000</td>\n",
              "      <td>-73.91303</td>\n",
              "      <td>4</td>\n",
              "      <td>17</td>\n",
              "      <td>0.66</td>\n",
              "      <td>2</td>\n",
              "      <td>307</td>\n",
              "      <td>1</td>\n",
              "      <td>0</td>\n",
              "    </tr>\n",
              "    <tr>\n",
              "      <th>2</th>\n",
              "      <td>40.62707</td>\n",
              "      <td>-74.02817</td>\n",
              "      <td>3</td>\n",
              "      <td>1</td>\n",
              "      <td>0.04</td>\n",
              "      <td>1</td>\n",
              "      <td>87</td>\n",
              "      <td>0</td>\n",
              "      <td>0</td>\n",
              "    </tr>\n",
              "    <tr>\n",
              "      <th>3</th>\n",
              "      <td>40.77910</td>\n",
              "      <td>-73.98565</td>\n",
              "      <td>1</td>\n",
              "      <td>4</td>\n",
              "      <td>0.08</td>\n",
              "      <td>1</td>\n",
              "      <td>0</td>\n",
              "      <td>0</td>\n",
              "      <td>1</td>\n",
              "    </tr>\n",
              "    <tr>\n",
              "      <th>4</th>\n",
              "      <td>40.75777</td>\n",
              "      <td>-73.93509</td>\n",
              "      <td>1</td>\n",
              "      <td>0</td>\n",
              "      <td>0.00</td>\n",
              "      <td>1</td>\n",
              "      <td>358</td>\n",
              "      <td>1</td>\n",
              "      <td>0</td>\n",
              "    </tr>\n",
              "  </tbody>\n",
              "</table>\n",
              "</div>"
            ],
            "text/plain": [
              "      latitude  longitude  ...  Private_room  Entire_home/apt\n",
              "0     40.71239  -73.95271  ...             1                0\n",
              "1  40696.00000  -73.91303  ...             1                0\n",
              "2     40.62707  -74.02817  ...             0                0\n",
              "3     40.77910  -73.98565  ...             0                1\n",
              "4     40.75777  -73.93509  ...             1                0\n",
              "\n",
              "[5 rows x 9 columns]"
            ]
          },
          "metadata": {
            "tags": []
          },
          "execution_count": 6
        }
      ]
    },
    {
      "cell_type": "code",
      "metadata": {
        "id": "Fei12mGUt2QI",
        "outputId": "7160c2ca-2f9c-4247-c231-8b9e2de28ab0",
        "colab": {
          "base_uri": "https://localhost:8080/",
          "height": 204
        }
      },
      "source": [
        "y_train.head()"
      ],
      "execution_count": 7,
      "outputs": [
        {
          "output_type": "execute_result",
          "data": {
            "text/html": [
              "<div>\n",
              "<style scoped>\n",
              "    .dataframe tbody tr th:only-of-type {\n",
              "        vertical-align: middle;\n",
              "    }\n",
              "\n",
              "    .dataframe tbody tr th {\n",
              "        vertical-align: top;\n",
              "    }\n",
              "\n",
              "    .dataframe thead th {\n",
              "        text-align: right;\n",
              "    }\n",
              "</style>\n",
              "<table border=\"1\" class=\"dataframe\">\n",
              "  <thead>\n",
              "    <tr style=\"text-align: right;\">\n",
              "      <th></th>\n",
              "      <th>price</th>\n",
              "    </tr>\n",
              "  </thead>\n",
              "  <tbody>\n",
              "    <tr>\n",
              "      <th>0</th>\n",
              "      <td>65</td>\n",
              "    </tr>\n",
              "    <tr>\n",
              "      <th>1</th>\n",
              "      <td>57</td>\n",
              "    </tr>\n",
              "    <tr>\n",
              "      <th>2</th>\n",
              "      <td>225</td>\n",
              "    </tr>\n",
              "    <tr>\n",
              "      <th>3</th>\n",
              "      <td>175</td>\n",
              "    </tr>\n",
              "    <tr>\n",
              "      <th>4</th>\n",
              "      <td>125</td>\n",
              "    </tr>\n",
              "  </tbody>\n",
              "</table>\n",
              "</div>"
            ],
            "text/plain": [
              "   price\n",
              "0     65\n",
              "1     57\n",
              "2    225\n",
              "3    175\n",
              "4    125"
            ]
          },
          "metadata": {
            "tags": []
          },
          "execution_count": 7
        }
      ]
    },
    {
      "cell_type": "code",
      "metadata": {
        "id": "xDi7kyTAFHUA",
        "outputId": "963a850d-9047-4f78-c302-cff00141c51e",
        "colab": {
          "base_uri": "https://localhost:8080/",
          "height": 317
        }
      },
      "source": [
        "x_train.describe()"
      ],
      "execution_count": 8,
      "outputs": [
        {
          "output_type": "execute_result",
          "data": {
            "text/html": [
              "<div>\n",
              "<style scoped>\n",
              "    .dataframe tbody tr th:only-of-type {\n",
              "        vertical-align: middle;\n",
              "    }\n",
              "\n",
              "    .dataframe tbody tr th {\n",
              "        vertical-align: top;\n",
              "    }\n",
              "\n",
              "    .dataframe thead th {\n",
              "        text-align: right;\n",
              "    }\n",
              "</style>\n",
              "<table border=\"1\" class=\"dataframe\">\n",
              "  <thead>\n",
              "    <tr style=\"text-align: right;\">\n",
              "      <th></th>\n",
              "      <th>latitude</th>\n",
              "      <th>longitude</th>\n",
              "      <th>minimum_nights</th>\n",
              "      <th>number_of_reviews</th>\n",
              "      <th>reviews_per_month</th>\n",
              "      <th>calculated_host_listings_count</th>\n",
              "      <th>availability_365</th>\n",
              "      <th>Private_room</th>\n",
              "      <th>Entire_home/apt</th>\n",
              "    </tr>\n",
              "  </thead>\n",
              "  <tbody>\n",
              "    <tr>\n",
              "      <th>count</th>\n",
              "      <td>33884.000000</td>\n",
              "      <td>33884.000000</td>\n",
              "      <td>33884.000000</td>\n",
              "      <td>33884.000000</td>\n",
              "      <td>33884.000000</td>\n",
              "      <td>33884.000000</td>\n",
              "      <td>33884.000000</td>\n",
              "      <td>33884.000000</td>\n",
              "      <td>33884.000000</td>\n",
              "    </tr>\n",
              "    <tr>\n",
              "      <th>mean</th>\n",
              "      <td>393.742123</td>\n",
              "      <td>-767.324528</td>\n",
              "      <td>7.109904</td>\n",
              "      <td>23.391778</td>\n",
              "      <td>1.095455</td>\n",
              "      <td>7.101080</td>\n",
              "      <td>112.995839</td>\n",
              "      <td>0.456085</td>\n",
              "      <td>0.520127</td>\n",
              "    </tr>\n",
              "    <tr>\n",
              "      <th>std</th>\n",
              "      <td>3773.366411</td>\n",
              "      <td>7123.758128</td>\n",
              "      <td>20.234836</td>\n",
              "      <td>44.608022</td>\n",
              "      <td>1.610452</td>\n",
              "      <td>32.746915</td>\n",
              "      <td>131.641035</td>\n",
              "      <td>0.498075</td>\n",
              "      <td>0.499602</td>\n",
              "    </tr>\n",
              "    <tr>\n",
              "      <th>min</th>\n",
              "      <td>40.499790</td>\n",
              "      <td>-74142.000000</td>\n",
              "      <td>1.000000</td>\n",
              "      <td>0.000000</td>\n",
              "      <td>0.000000</td>\n",
              "      <td>1.000000</td>\n",
              "      <td>0.000000</td>\n",
              "      <td>0.000000</td>\n",
              "      <td>0.000000</td>\n",
              "    </tr>\n",
              "    <tr>\n",
              "      <th>25%</th>\n",
              "      <td>40.690427</td>\n",
              "      <td>-73.983503</td>\n",
              "      <td>1.000000</td>\n",
              "      <td>1.000000</td>\n",
              "      <td>0.040000</td>\n",
              "      <td>1.000000</td>\n",
              "      <td>0.000000</td>\n",
              "      <td>0.000000</td>\n",
              "      <td>0.000000</td>\n",
              "    </tr>\n",
              "    <tr>\n",
              "      <th>50%</th>\n",
              "      <td>40.723645</td>\n",
              "      <td>-73.956025</td>\n",
              "      <td>3.000000</td>\n",
              "      <td>5.000000</td>\n",
              "      <td>0.370000</td>\n",
              "      <td>1.000000</td>\n",
              "      <td>45.000000</td>\n",
              "      <td>0.000000</td>\n",
              "      <td>1.000000</td>\n",
              "    </tr>\n",
              "    <tr>\n",
              "      <th>75%</th>\n",
              "      <td>40.763910</td>\n",
              "      <td>-73.937005</td>\n",
              "      <td>5.000000</td>\n",
              "      <td>24.000000</td>\n",
              "      <td>1.590000</td>\n",
              "      <td>2.000000</td>\n",
              "      <td>227.000000</td>\n",
              "      <td>1.000000</td>\n",
              "      <td>1.000000</td>\n",
              "    </tr>\n",
              "    <tr>\n",
              "      <th>max</th>\n",
              "      <td>40894.000000</td>\n",
              "      <td>-73.712990</td>\n",
              "      <td>1000.000000</td>\n",
              "      <td>629.000000</td>\n",
              "      <td>58.500000</td>\n",
              "      <td>327.000000</td>\n",
              "      <td>365.000000</td>\n",
              "      <td>1.000000</td>\n",
              "      <td>1.000000</td>\n",
              "    </tr>\n",
              "  </tbody>\n",
              "</table>\n",
              "</div>"
            ],
            "text/plain": [
              "           latitude     longitude  ...  Private_room  Entire_home/apt\n",
              "count  33884.000000  33884.000000  ...  33884.000000     33884.000000\n",
              "mean     393.742123   -767.324528  ...      0.456085         0.520127\n",
              "std     3773.366411   7123.758128  ...      0.498075         0.499602\n",
              "min       40.499790 -74142.000000  ...      0.000000         0.000000\n",
              "25%       40.690427    -73.983503  ...      0.000000         0.000000\n",
              "50%       40.723645    -73.956025  ...      0.000000         1.000000\n",
              "75%       40.763910    -73.937005  ...      1.000000         1.000000\n",
              "max    40894.000000    -73.712990  ...      1.000000         1.000000\n",
              "\n",
              "[8 rows x 9 columns]"
            ]
          },
          "metadata": {
            "tags": []
          },
          "execution_count": 8
        }
      ]
    },
    {
      "cell_type": "code",
      "metadata": {
        "id": "PYCCWTEpt8OV",
        "outputId": "2825be79-9331-4712-b952-8821aaefe635",
        "colab": {
          "base_uri": "https://localhost:8080/",
          "height": 297
        }
      },
      "source": [
        "y_train.describe()"
      ],
      "execution_count": 9,
      "outputs": [
        {
          "output_type": "execute_result",
          "data": {
            "text/html": [
              "<div>\n",
              "<style scoped>\n",
              "    .dataframe tbody tr th:only-of-type {\n",
              "        vertical-align: middle;\n",
              "    }\n",
              "\n",
              "    .dataframe tbody tr th {\n",
              "        vertical-align: top;\n",
              "    }\n",
              "\n",
              "    .dataframe thead th {\n",
              "        text-align: right;\n",
              "    }\n",
              "</style>\n",
              "<table border=\"1\" class=\"dataframe\">\n",
              "  <thead>\n",
              "    <tr style=\"text-align: right;\">\n",
              "      <th></th>\n",
              "      <th>price</th>\n",
              "    </tr>\n",
              "  </thead>\n",
              "  <tbody>\n",
              "    <tr>\n",
              "      <th>count</th>\n",
              "      <td>33884.000000</td>\n",
              "    </tr>\n",
              "    <tr>\n",
              "      <th>mean</th>\n",
              "      <td>153.605389</td>\n",
              "    </tr>\n",
              "    <tr>\n",
              "      <th>std</th>\n",
              "      <td>249.102710</td>\n",
              "    </tr>\n",
              "    <tr>\n",
              "      <th>min</th>\n",
              "      <td>0.000000</td>\n",
              "    </tr>\n",
              "    <tr>\n",
              "      <th>25%</th>\n",
              "      <td>69.000000</td>\n",
              "    </tr>\n",
              "    <tr>\n",
              "      <th>50%</th>\n",
              "      <td>106.000000</td>\n",
              "    </tr>\n",
              "    <tr>\n",
              "      <th>75%</th>\n",
              "      <td>175.000000</td>\n",
              "    </tr>\n",
              "    <tr>\n",
              "      <th>max</th>\n",
              "      <td>10000.000000</td>\n",
              "    </tr>\n",
              "  </tbody>\n",
              "</table>\n",
              "</div>"
            ],
            "text/plain": [
              "              price\n",
              "count  33884.000000\n",
              "mean     153.605389\n",
              "std      249.102710\n",
              "min        0.000000\n",
              "25%       69.000000\n",
              "50%      106.000000\n",
              "75%      175.000000\n",
              "max    10000.000000"
            ]
          },
          "metadata": {
            "tags": []
          },
          "execution_count": 9
        }
      ]
    },
    {
      "cell_type": "code",
      "metadata": {
        "id": "WzfpLPB_qL04",
        "outputId": "80616594-11b2-42b4-d10e-62c9d592ce76",
        "colab": {
          "base_uri": "https://localhost:8080/"
        }
      },
      "source": [
        "x_train.dtypes"
      ],
      "execution_count": 10,
      "outputs": [
        {
          "output_type": "execute_result",
          "data": {
            "text/plain": [
              "latitude                          float64\n",
              "longitude                         float64\n",
              "minimum_nights                      int64\n",
              "number_of_reviews                   int64\n",
              "reviews_per_month                 float64\n",
              "calculated_host_listings_count      int64\n",
              "availability_365                    int64\n",
              "Private_room                        int64\n",
              "Entire_home/apt                     int64\n",
              "dtype: object"
            ]
          },
          "metadata": {
            "tags": []
          },
          "execution_count": 10
        }
      ]
    },
    {
      "cell_type": "code",
      "metadata": {
        "id": "lPM-d69ap_IV",
        "outputId": "63b3f81a-7204-4709-d303-2f9f930a8d3f",
        "colab": {
          "base_uri": "https://localhost:8080/"
        }
      },
      "source": [
        "x_train.isnull().sum()"
      ],
      "execution_count": 11,
      "outputs": [
        {
          "output_type": "execute_result",
          "data": {
            "text/plain": [
              "latitude                          0\n",
              "longitude                         0\n",
              "minimum_nights                    0\n",
              "number_of_reviews                 0\n",
              "reviews_per_month                 0\n",
              "calculated_host_listings_count    0\n",
              "availability_365                  0\n",
              "Private_room                      0\n",
              "Entire_home/apt                   0\n",
              "dtype: int64"
            ]
          },
          "metadata": {
            "tags": []
          },
          "execution_count": 11
        }
      ]
    },
    {
      "cell_type": "markdown",
      "metadata": {
        "id": "fFCnNNVNJp7E"
      },
      "source": [
        "##Correlazione tra feature e target\n",
        "Inizialmente è stato pensato di eseguire feature selection, in modo da rimuovere tutte quelle feature con basso grado di correlazione con la variabile target minore (es Minimum_Nights). Però questo approccio è stato abbandonato in quanto non ha portato ad un significativo incremento delle performance del modello. Quindi il modello è stato allenato utilizzando tutte le feature del dataset."
      ]
    },
    {
      "cell_type": "code",
      "metadata": {
        "id": "zZAzIZIqrn89",
        "outputId": "bdf2c638-f137-40d0-8a10-f49c0a66a32e",
        "colab": {
          "base_uri": "https://localhost:8080/",
          "height": 664
        }
      },
      "source": [
        "dataset = x_train\n",
        "dataset = dataset.assign(price = y_train) \n",
        "corr = dataset.corr(method='pearson')\n",
        "plt.figure(figsize=(15,8))\n",
        "sns.heatmap(corr, annot=True)"
      ],
      "execution_count": 13,
      "outputs": [
        {
          "output_type": "execute_result",
          "data": {
            "text/plain": [
              "<matplotlib.axes._subplots.AxesSubplot at 0x7f7fab3b4e48>"
            ]
          },
          "metadata": {
            "tags": []
          },
          "execution_count": 13
        },
        {
          "output_type": "display_data",
          "data": {
            "image/png": "[encoded data removed]",
            "text/plain": [
              "<Figure size 1080x576 with 2 Axes>"
            ]
          },
          "metadata": {
            "tags": []
          }
        }
      ]
    },
    {
      "cell_type": "markdown",
      "metadata": {
        "id": "mpxgrklR4e71"
      },
      "source": [
        "##Preprocessing"
      ]
    },
    {
      "cell_type": "markdown",
      "metadata": {
        "id": "GuHsm_EZLHy0"
      },
      "source": [
        "E' stata applicata una normalizzazione ai valori di train (sia le feature sia la variabile target) in modo da riportare i valori in un range compreso tra 0 e 1"
      ]
    },
    {
      "cell_type": "code",
      "metadata": {
        "id": "SyX2Pzxb8hlu"
      },
      "source": [
        "x_train, scaler = preprocess_data(x_train)\n",
        "y_train, scaler1 = preprocess_data(y_train)"
      ],
      "execution_count": 129,
      "outputs": []
    },
    {
      "cell_type": "code",
      "metadata": {
        "id": "yfqQmBi98oKI",
        "outputId": "9edd4bf1-9346-4208-f934-8872e90db3ae",
        "colab": {
          "base_uri": "https://localhost:8080/"
        }
      },
      "source": [
        "print(x_train[0])\n",
        "print('Train dimensions:', x_train.shape)"
      ],
      "execution_count": 130,
      "outputs": [
        {
          "output_type": "stream",
          "text": [
            "[5.20396047e-06 9.99996764e-01 3.00300300e-03 3.17965024e-03\n",
            " 3.24786325e-03 0.00000000e+00 0.00000000e+00 1.00000000e+00\n",
            " 0.00000000e+00]\n",
            "Train dimensions: (33884, 9)\n"
          ],
          "name": "stdout"
        }
      ]
    },
    {
      "cell_type": "code",
      "metadata": {
        "id": "hFBwB0YF8qeC",
        "outputId": "26709959-269b-489b-fee9-af5f19f0293f",
        "colab": {
          "base_uri": "https://localhost:8080/"
        }
      },
      "source": [
        "print('Minimum value of the target variable:', int(y_train.min()))\n",
        "print('Maximum value of the target variable:', int(y_train.max()))\n",
        "print('Target dims', y_train.shape)"
      ],
      "execution_count": 131,
      "outputs": [
        {
          "output_type": "stream",
          "text": [
            "Minimum value of the target variable: 0\n",
            "Maximum value of the target variable: 1\n",
            "Target dims (33884, 1)\n"
          ],
          "name": "stdout"
        }
      ]
    },
    {
      "cell_type": "markdown",
      "metadata": {
        "id": "nbBceMeiMgVI"
      },
      "source": [
        "## GridSearch  "
      ]
    },
    {
      "cell_type": "markdown",
      "metadata": {
        "id": "OgZCpKXhO6GU"
      },
      "source": [
        "Per trovare i parametri migliori per allenare la rete è stata applicata una tecnica di GridSearch. Questa consiste nel provare diversi tipi di parametri iniziali e al termine dell'esecuzione vengono restituiti i parametri migliori che hanno ottimizzato al meglio la metrica richiesta. \n",
        "\n",
        "La funzione FindLayerNodesLinear restituisce il numero di neuroni per ogni hidden layer in modo decrescente, partendo dal numero di input e arrivando a quello di output.\n",
        "\n",
        "La funzione createmodel serve a creare la rete vera e propria, è composta da n layers in base al parametro in input e ogni livello conterrà un numero differente di neuroni in base al layer. \n",
        "\n",
        "Per allenare questo modello è stata fissata sia la funzione di attivazione (relu hidden layer e sigmoid output layer), sia la loss function (mse) e anche la metrica (rmse). In questo modo è stato possibile concentrarsi maggiormente sulla struttura della rete.\n",
        "\n",
        "I parametri passati in fase di training sono diversi:\n",
        "- n_layers=[3,4,5] => permette di capire quanti livelli dovrebbe avere la rete. L'analisi è stata fatta solo tra 3 e 5 livelli, perché aumentando il numero la fase di training diventava troppo onerosa. \n",
        "\n",
        "- first_layer_nodes = [256,128,64] => permette di capire quanti neuroni dovrebbe avere il primo layer.\n",
        "\n",
        "- last_layer_nodes = [64,32,16] => permette di capire quanti neuroni dovrebbe avere l'ultimo layer.\n",
        "\n",
        "- batch_size = [64,128,256] => permette di capire quale è la batch size migliore.\n",
        "\n",
        "- epochs = [10,20] => permette di capire quale è il numero di epochs migliore.\n",
        "E' stato scelto di avere numero basso di epochs perché altrimenti il training diventava troppo oneroso. \n",
        "\n",
        "Dopo l'esecuzione del comando grid.fit(X_train, y_train) sono stati trovati questi parametri ottimi:\n",
        "{'batch_size': 64, 'epochs': 20, 'first_layer_nodes': 128, 'last_layer_nodes': 16, 'n_layers': 5}\n",
        "\n",
        "Da questi parametri si è deciso di partire per allenare la rete vera e propria, formata da 5 livelli con 128 units al primo e all'ultimo solo 16.\n",
        "Utilizzando la funzione FindLayerNodesLinear(5, 128, 16) si possono vedere i neurons per ogni livello. \n",
        "\n",
        "[128, 100, 72, 44, 16]\n",
        "\n",
        "Reference: https://datagraphi.com/blog/post/2019/12/17/how-to-find-the-optimum-number-of-hidden-layers-and-nodes-in-a-neural-network-model"
      ]
    },
    {
      "cell_type": "code",
      "metadata": {
        "id": "4pA2q5tDFdQ7"
      },
      "source": [
        "import math\n",
        "from tensorflow.keras.models import Sequential\n",
        "from tensorflow.keras.layers import Dense\n",
        "from tensorflow.keras.wrappers.scikit_learn import KerasRegressor\n",
        "from sklearn.model_selection import GridSearchCV, RandomizedSearchCV\n",
        "\n",
        "def FindLayerNodesLinear(n_layers, first_layer_nodes, last_layer_nodes):\n",
        "    layers = []\n",
        "\n",
        "    nodes_increment = (last_layer_nodes - first_layer_nodes)/ (n_layers-1)\n",
        "    nodes = first_layer_nodes\n",
        "    for i in range(1, n_layers+1):\n",
        "        layers.append(math.ceil(nodes))\n",
        "        nodes = nodes + nodes_increment\n",
        "\n",
        "    return layers\n",
        "\n",
        "def rmse(y_true, y_pred):\n",
        "  return backend.sqrt(backend.mean(backend.square(y_pred - y_true), axis=-1))\n",
        "\n",
        "def createmodel(n_layers, first_layer_nodes, last_layer_nodes):\n",
        "    model = Sequential()\n",
        "    n_nodes = FindLayerNodesLinear(n_layers, first_layer_nodes, last_layer_nodes)\n",
        "    for i in range(1, n_layers):\n",
        "        if i==1:\n",
        "            model.add(Dense(first_layer_nodes, input_dim=X_train.shape[1], activation='relu'))\n",
        "        else:\n",
        "            model.add(Dense(n_nodes[i-1], activation='relu'))\n",
        "\n",
        "    model.add(Dense(y_train.shape[1], activation='sigmoid'))\n",
        "    model.compile(optimizer='adam', loss='mse', metrics = [rmse])\n",
        "\n",
        "    return model\n",
        "\n",
        "#model = KerasRegressor(build_fn=createmodel, verbose = False)\n",
        "\n",
        "#param_grid = dict(n_layers=[3,4,5], first_layer_nodes = [256,128,64], last_layer_nodes = [64,32,16], batch_size = [64,128,256], epochs = [10,20])\n",
        "\n",
        "#grid = GridSearchCV(estimator = model, param_grid = param_grid)\n",
        "\n",
        "#grid.fit(X_train, y_train)"
      ],
      "execution_count": 20,
      "outputs": []
    },
    {
      "cell_type": "code",
      "metadata": {
        "id": "yCCCFpsFNev2"
      },
      "source": [
        "#print(\"Best using %s\" % (grid.best_params_))\n",
        "#Best using {'batch_size': 64, 'epochs': 20, 'first_layer_nodes': 128, 'last_layer_nodes': 16, 'n_layers': 5}"
      ],
      "execution_count": null,
      "outputs": []
    },
    {
      "cell_type": "code",
      "metadata": {
        "id": "GtyTTZTkOQQ6",
        "outputId": "98fe7708-b2c1-4c22-b49d-27deeda98176",
        "colab": {
          "base_uri": "https://localhost:8080/"
        }
      },
      "source": [
        "FindLayerNodesLinear(5, 128, 16)\n",
        "#[128, 100, 72, 44, 16]"
      ],
      "execution_count": 21,
      "outputs": [
        {
          "output_type": "execute_result",
          "data": {
            "text/plain": [
              "[128, 100, 72, 44, 16]"
            ]
          },
          "metadata": {
            "tags": []
          },
          "execution_count": 21
        }
      ]
    },
    {
      "cell_type": "markdown",
      "metadata": {
        "id": "T2YAZUyyZVYp"
      },
      "source": [
        "## Train & Test"
      ]
    },
    {
      "cell_type": "markdown",
      "metadata": {
        "id": "sTT9VOgmYk__"
      },
      "source": [
        "E' stata costruita la rete utilizzando le metriche trovate prima, sono stati introdotti due livelli di Dropout in modo da evitare che la rete overfitti troppo. Per evitare questo è stato anche introdotto il EarlyStopping con patience = 10, in modo che dopo 10 epochs senza nessun miglioramento rispetto alla loss function il training viene stoppato.\n",
        "\n",
        "Sono state utilizzate tutte le funzioni di attivazione in fase di allenamento del modello. \n",
        "\n",
        "Come loss function è stato provato sia mean_squared_logarithmic_error che mse e non sono state trovate particolari differenze nei risultati. Mentre per quanto riguarda l'optimizer è stato provato un approccio SGD, ma le performance sono decisamente peggiorate, quindi è stato utilizzato un ottimizzatore base come adam. "
      ]
    },
    {
      "cell_type": "code",
      "metadata": {
        "id": "A2IRULQFJ5MO"
      },
      "source": [
        "X_train, X_validation, y_train, y_validation = train_test_split(x_train, y_train, test_size=0.2, random_state=0)"
      ],
      "execution_count": 133,
      "outputs": []
    },
    {
      "cell_type": "code",
      "metadata": {
        "id": "pkYHlKb4PI1w"
      },
      "source": [
        "def NeuralNetwork(X, activation, n_outputs):\n",
        "    inputs = Input(shape = (X.shape[1]))\n",
        "    x = layers.Dense(128, activation = activation) (inputs)\n",
        "    x = layers.Dense(100, activation = activation) (x)\n",
        "    x = layers.Dense(72, activation = activation) (x)\n",
        "    x = Dropout(0.3) (x)\n",
        "    x = layers.Dense(44, activation = activation) (x)\n",
        "    x = layers.Dense(16, activation = activation) (x)\n",
        "    x = Dropout(0.3) (x)\n",
        "    output = layers.Dense(n_outputs, activation = 'sigmoid') (x)\n",
        "    model = Model(inputs, output)\n",
        "    model.compile(loss = 'mse', optimizer='adam', metrics = [tf.keras.metrics.RootMeanSquaredError()]) \n",
        "    return model"
      ],
      "execution_count": 55,
      "outputs": []
    },
    {
      "cell_type": "code",
      "metadata": {
        "id": "VRBda5SbW6b1"
      },
      "source": [
        "def gelu(x):\n",
        "    return 0.5 * x * (1 + tf.tanh(tf.sqrt(2 / np.pi) * (x + 0.044715 * tf.pow(x, 3))))\n",
        "\n",
        "def swish(x, beta = 1):\n",
        "    return (x * sigmoid(beta * x))\n",
        "\n",
        "get_custom_objects().update({'gelu': Activation(gelu)})\n",
        "get_custom_objects().update({'leaky-relu': Activation(LeakyReLU(alpha=0.2))})\n",
        "get_custom_objects().update({'swish': Activation(swish)})\n",
        "\n",
        "act_func = ['relu', 'elu', 'leaky-relu', 'selu', 'gelu', 'softmax', 'swish']"
      ],
      "execution_count": 56,
      "outputs": []
    },
    {
      "cell_type": "code",
      "metadata": {
        "id": "XyKLE2P8S99p",
        "outputId": "456ca99a-dfb6-4f74-e688-ccb87aab02c3",
        "colab": {
          "base_uri": "https://localhost:8080/"
        }
      },
      "source": [
        "result = []\n",
        "for activation in act_func:\n",
        "    print('\\nTraining with -->{0}<-- activation function\\n'.format(activation))\n",
        "    dims = y_train.shape[1]\n",
        "    model = NeuralNetwork(activation=activation, X = X_train, n_outputs=dims)\n",
        "    \n",
        "    history = model.fit(X_train, y_train,\n",
        "          batch_size=64,\n",
        "          epochs=50,\n",
        "          verbose=0,\n",
        "          validation_data=(X_validation, y_validation),\n",
        "          callbacks=[tf.keras.callbacks.EarlyStopping(monitor='loss', mode='min', patience=10)]) # EarlyStopping patient 10 epoch\n",
        "    \n",
        "    result.append(history)\n",
        "    \n",
        "    K.clear_session()\n",
        "    del model"
      ],
      "execution_count": 57,
      "outputs": [
        {
          "output_type": "stream",
          "text": [
            "\n",
            "Training with -->relu<-- activation function\n",
            "\n",
            "\n",
            "Training with -->elu<-- activation function\n",
            "\n",
            "\n",
            "Training with -->leaky-relu<-- activation function\n",
            "\n",
            "\n",
            "Training with -->selu<-- activation function\n",
            "\n",
            "\n",
            "Training with -->gelu<-- activation function\n",
            "\n",
            "\n",
            "Training with -->softmax<-- activation function\n",
            "\n",
            "\n",
            "Training with -->swish<-- activation function\n",
            "\n"
          ],
          "name": "stdout"
        }
      ]
    },
    {
      "cell_type": "code",
      "metadata": {
        "id": "t-C3fZN2b8om",
        "outputId": "e40c6bc6-1704-419c-e85d-b24941c36e86",
        "colab": {
          "base_uri": "https://localhost:8080/",
          "height": 644
        }
      },
      "source": [
        "rmse_finale = []\n",
        "\n",
        "def risultati(activation_function, rmse):\n",
        "    for i in range(len(activation_function)):\n",
        "        print('RMSE of the activation function {} is {}'.format(activation_function[i], round(rmse[i], 5)))\n",
        "        \n",
        "def plot_act_func_results(results, activation_functions = []):\n",
        "    plt.figure(figsize=(10,7))\n",
        "    plt.style.use('dark_background')\n",
        "    \n",
        "    # Plot of the validation root mean squared error\n",
        "    plt.figure(figsize=(10,10))\n",
        "    \n",
        "    for act_func in results:\n",
        "        plt.plot(act_func.history['val_root_mean_squared_error'])\n",
        "        rmse_finale.append(act_func.history['val_root_mean_squared_error'][-1])\n",
        "    \n",
        "    plt.title('Model RMSE')\n",
        "    plt.ylabel('Validation RMSE')\n",
        "    plt.xlabel('Epoch')\n",
        "    plt.legend(activation_functions)\n",
        "    plt.show()\n",
        "\n",
        "plot_act_func_results(result, act_func)"
      ],
      "execution_count": 58,
      "outputs": [
        {
          "output_type": "display_data",
          "data": {
            "text/plain": [
              "<Figure size 720x504 with 0 Axes>"
            ]
          },
          "metadata": {
            "tags": []
          }
        },
        {
          "output_type": "display_data",
          "data": {
            "image/png": "[encoded data removed]",
            "text/plain": [
              "<Figure size 720x720 with 1 Axes>"
            ]
          },
          "metadata": {
            "tags": []
          }
        }
      ]
    },
    {
      "cell_type": "code",
      "metadata": {
        "id": "pv13Zst8qJ-c",
        "outputId": "2e378f44-7e26-407c-e714-4f399056aee6",
        "colab": {
          "base_uri": "https://localhost:8080/"
        }
      },
      "source": [
        "risultati(act_func,rmse_finale)\n",
        "#RMSE of the activation function relu is 0.02136\n",
        "#RMSE of the activation function elu is 0.02139\n",
        "#RMSE of the activation function leaky-relu is 0.02133\n",
        "#RMSE of the activation function selu is 0.02143\n",
        "#RMSE of the activation function gelu is 0.02136\n",
        "#RMSE of the activation function softmax is 0.02246\n",
        "#RMSE of the activation function swish is 0.0214"
      ],
      "execution_count": 86,
      "outputs": [
        {
          "output_type": "stream",
          "text": [
            "RMSE of the activation function relu is 0.02136\n",
            "RMSE of the activation function elu is 0.02139\n",
            "RMSE of the activation function leaky-relu is 0.02133\n",
            "RMSE of the activation function selu is 0.02143\n",
            "RMSE of the activation function gelu is 0.02136\n",
            "RMSE of the activation function softmax is 0.02246\n",
            "RMSE of the activation function swish is 0.0214\n"
          ],
          "name": "stdout"
        }
      ]
    },
    {
      "cell_type": "markdown",
      "metadata": {
        "id": "U0A0K8xoeeba"
      },
      "source": [
        "## Predict\n",
        "\n",
        "E' possibile vedere come la funzione di attivazione con valore minore di RMSE è la Leaky-RELU con un valore di 0.02133. Pertanto è stata selezionata per allenare il modello"
      ]
    },
    {
      "cell_type": "code",
      "metadata": {
        "id": "n30bJwv1ec58",
        "outputId": "a85d62ba-a873-45a3-c294-e2c122d15168",
        "colab": {
          "base_uri": "https://localhost:8080/"
        }
      },
      "source": [
        "activation = 'leaky-relu'\n",
        "\n",
        "model = NeuralNetwork(activation=activation, X = X_train, n_outputs=dims)\n",
        "model.summary()\n",
        "model.fit(X_train, y_train,\n",
        "          batch_size=64,\n",
        "          epochs=50,\n",
        "          verbose=0,\n",
        "          validation_data=(X_validation, y_validation),\n",
        "          callbacks=[tf.keras.callbacks.EarlyStopping(monitor='loss', mode='min', patience=10)])\n"
      ],
      "execution_count": 134,
      "outputs": [
        {
          "output_type": "stream",
          "text": [
            "Model: \"functional_9\"\n",
            "_________________________________________________________________\n",
            "Layer (type)                 Output Shape              Param #   \n",
            "=================================================================\n",
            "input_5 (InputLayer)         [(None, 9)]               0         \n",
            "_________________________________________________________________\n",
            "dense_24 (Dense)             (None, 128)               1280      \n",
            "_________________________________________________________________\n",
            "dense_25 (Dense)             (None, 100)               12900     \n",
            "_________________________________________________________________\n",
            "dense_26 (Dense)             (None, 72)                7272      \n",
            "_________________________________________________________________\n",
            "dropout_8 (Dropout)          (None, 72)                0         \n",
            "_________________________________________________________________\n",
            "dense_27 (Dense)             (None, 44)                3212      \n",
            "_________________________________________________________________\n",
            "dense_28 (Dense)             (None, 16)                720       \n",
            "_________________________________________________________________\n",
            "dropout_9 (Dropout)          (None, 16)                0         \n",
            "_________________________________________________________________\n",
            "dense_29 (Dense)             (None, 1)                 17        \n",
            "=================================================================\n",
            "Total params: 25,401\n",
            "Trainable params: 25,401\n",
            "Non-trainable params: 0\n",
            "_________________________________________________________________\n"
          ],
          "name": "stdout"
        },
        {
          "output_type": "execute_result",
          "data": {
            "text/plain": [
              "<tensorflow.python.keras.callbacks.History at 0x7f7f212e7a90>"
            ]
          },
          "metadata": {
            "tags": []
          },
          "execution_count": 134
        }
      ]
    },
    {
      "cell_type": "code",
      "metadata": {
        "id": "GZAoMc9VxinH"
      },
      "source": [
        "x_test = pd.read_csv(\"X_test.csv\")\n",
        "x_test.drop(['Unnamed: 0'], axis=1, inplace=True)\n",
        "x_test, scaler = preprocess_data(x_test)"
      ],
      "execution_count": 135,
      "outputs": []
    },
    {
      "cell_type": "code",
      "metadata": {
        "id": "uoiEuq6UevPr"
      },
      "source": [
        "y_test = model.predict(x_test)"
      ],
      "execution_count": 136,
      "outputs": []
    },
    {
      "cell_type": "code",
      "metadata": {
        "id": "EhSUPOhnfU70",
        "outputId": "16a4f49c-2e4c-4234-f7f7-9300a8599239",
        "colab": {
          "base_uri": "https://localhost:8080/"
        }
      },
      "source": [
        "y_test_final = scaler1.inverse_transform(y_test)\n",
        "print(y_test_final)"
      ],
      "execution_count": 137,
      "outputs": [
        {
          "output_type": "stream",
          "text": [
            "[[192.50723 ]\n",
            " [ 79.07849 ]\n",
            " [ 71.406456]\n",
            " ...\n",
            " [187.20258 ]\n",
            " [202.76959 ]\n",
            " [ 89.35898 ]]\n"
          ],
          "name": "stdout"
        }
      ]
    },
    {
      "cell_type": "code",
      "metadata": {
        "id": "7UJW6tKfBZWj"
      },
      "source": [
        "with open(\"Fabio_Beltramelli_816912_score1.txt\", 'w') as f:\n",
        "    for item in y_test_final:\n",
        "        f.write(str(item)+\",\\n\")"
      ],
      "execution_count": 139,
      "outputs": []
    }
  ]
}