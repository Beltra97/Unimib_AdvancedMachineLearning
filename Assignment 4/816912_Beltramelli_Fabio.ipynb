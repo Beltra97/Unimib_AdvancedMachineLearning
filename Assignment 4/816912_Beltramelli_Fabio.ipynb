{
  "nbformat": 4,
  "nbformat_minor": 0,
  "metadata": {
    "colab": {
      "name": "816912_Beltramelli_Fabio.ipynb",
      "provenance": [],
      "collapsed_sections": []
    },
    "kernelspec": {
      "name": "python3",
      "display_name": "Python 3"
    }
  },
  "cells": [
    {
      "cell_type": "markdown",
      "metadata": {
        "id": "Op4rSRYrs9Cd"
      },
      "source": [
        "##NUOVO TASK CLASSIFICAZIONE\n",
        "Il nuovo task di classificazione ha come obiettivo la corretta classificazione di 5 classi di immagini prese dal dataset CIFAR-100. Per estrarre le feature è stata utilizzata una rete convoluzionale pre-trained VGG-16. Le feature estratte sono passate poi ad un classificatore classico (SVM in questo caso). Quest'ultimo ha il compito di classificare le varie feature estratte nella label giusta."
      ]
    },
    {
      "cell_type": "code",
      "metadata": {
        "id": "gQvBQpyLgtPw"
      },
      "source": [
        "import numpy as np\n",
        "from tensorflow import keras\n",
        "from tensorflow.keras import layers\n",
        "from tensorflow.keras.applications.vgg16 import VGG16\n",
        "from tensorflow.keras.preprocessing import image\n",
        "from tensorflow.keras.applications.vgg16 import preprocess_input\n",
        "\n",
        "from sklearn.svm import LinearSVC\n",
        "from sklearn.metrics import classification_report"
      ],
      "execution_count": null,
      "outputs": []
    },
    {
      "cell_type": "markdown",
      "metadata": {
        "id": "bygG_Qst3KP8"
      },
      "source": [
        "##DATASET\n",
        "Il dataset utilizzato è stato preso tra i dataset resi disponibili su keras.datasets. Si tratta del dataset Cifar 100, composto da 60000 immagini, distribuite in 100 classi e 20 superclassi. E' stato realizzato dall'Università di Toronto. Le immagini provengono da diversi domini, mondo animale, mondo vegetale, persone, veicoli ecc...\\\n",
        "Per questo task sono state selezionate solo le ultime 5 classi presenti, in modo da diminuire il dataset, così da velocizzare le performance di training.\n",
        "\n",
        "Le classi selezionate sono:\\\n",
        "95 => Whale = Balena \\\n",
        "96 => Oak = Quercia \\\n",
        "97 => Wolf = Lupo \\\n",
        "98 => Woman = Donna \\\n",
        "99 => Snake = Serpente \\\n",
        "\n",
        "Le immagini hanno dimensione 32x32x3.\n",
        "\n",
        "Ogni classe è composta da 500 immagini di training e 100 immagini di test.\n",
        "\n",
        "Il training set è composto da 2500 immagini, mentre il test set da 500 immagini.\n",
        "\n",
        "Le immagini sono state pre-processate utilizzando la funzione preprocess_input di vgg16"
      ]
    },
    {
      "cell_type": "code",
      "metadata": {
        "id": "PBTjsX9BMK5N",
        "colab": {
          "base_uri": "https://localhost:8080/"
        },
        "outputId": "9dc5854c-9568-4cec-de5a-64e967513398"
      },
      "source": [
        "(x_train, y_train), (x_test, y_test) = keras.datasets.cifar100.load_data()\n",
        "\n",
        "train_indices = np.where(y_train.ravel() >= 95)\n",
        "test_indices = np.where(y_test.ravel() >= 95)\n",
        "\n",
        "x_train = x_train[train_indices]\n",
        "y_train = y_train[train_indices]\n",
        "\n",
        "x_test = x_test[test_indices]\n",
        "y_test = y_test[test_indices]"
      ],
      "execution_count": null,
      "outputs": [
        {
          "output_type": "stream",
          "text": [
            "Downloading data from https://www.cs.toronto.edu/~kriz/cifar-100-python.tar.gz\n",
            "169009152/169001437 [==============================] - 2s 0us/step\n"
          ],
          "name": "stdout"
        }
      ]
    },
    {
      "cell_type": "code",
      "metadata": {
        "colab": {
          "base_uri": "https://localhost:8080/",
          "height": 283
        },
        "id": "ijO0vlOkwtnz",
        "outputId": "affad68d-c6df-444e-8d85-af4f60796ddc"
      },
      "source": [
        "from matplotlib import pyplot as plt\n",
        "plt.imshow(x_train[1], interpolation='nearest')\n",
        "plt.show()\n",
        "print(y_train[1])"
      ],
      "execution_count": null,
      "outputs": [
        {
          "output_type": "display_data",
          "data": {
            "image/png": "[encoded data removed]",
            "text/plain": [
              "<Figure size 432x288 with 1 Axes>"
            ]
          },
          "metadata": {
            "tags": [],
            "needs_background": "light"
          }
        },
        {
          "output_type": "stream",
          "text": [
            "[97]\n"
          ],
          "name": "stdout"
        }
      ]
    },
    {
      "cell_type": "code",
      "metadata": {
        "colab": {
          "base_uri": "https://localhost:8080/"
        },
        "id": "HI6KzciWwrJV",
        "outputId": "89780749-ce0c-4728-9f26-4f395bcadf9e"
      },
      "source": [
        "x_train = preprocess_input(x_train)\n",
        "x_test = preprocess_input(x_test)\n",
        "\n",
        "print(x_train.shape[0], \"train samples\")\n",
        "print(x_test.shape[0], \"test samples\")\n",
        "\n",
        "y_train = keras.utils.to_categorical(y_train)\n",
        "y_test = keras.utils.to_categorical(y_test)"
      ],
      "execution_count": null,
      "outputs": [
        {
          "output_type": "stream",
          "text": [
            "2500 train samples\n",
            "500 test samples\n"
          ],
          "name": "stdout"
        }
      ]
    },
    {
      "cell_type": "markdown",
      "metadata": {
        "id": "C9QpWYMM5UER"
      },
      "source": [
        "Si è utilizzata la rete VGG16 pre trained, escludendo i layer finali. I pesi per la rete già addestrata sono basati sul task \"imagenet\".\n",
        "\n",
        "La rete in input accetta immagini di dimensione 32x32x3.\\\n",
        "La rete è composta da 5 blocchi, ogni blocco formato da 2/3 layer convoluzionali seguiti da un layer di max pooling.\\\n",
        "La dimensione dei filtri utilizzati raddoppia ad ogni blocco (64 al primo, 128 al secondo e così via)\n"
      ]
    },
    {
      "cell_type": "code",
      "metadata": {
        "colab": {
          "base_uri": "https://localhost:8080/"
        },
        "id": "zbo5XocHLHod",
        "outputId": "9ba011b3-29c2-418c-93ae-f550410bf2c3"
      },
      "source": [
        "input_shape = x_train[0].shape\n",
        "vgg16_model = VGG16(input_shape=input_shape, weights='imagenet', include_top=False)\n",
        "vgg16_model.summary()"
      ],
      "execution_count": null,
      "outputs": [
        {
          "output_type": "stream",
          "text": [
            "Downloading data from https://storage.googleapis.com/tensorflow/keras-applications/vgg16/vgg16_weights_tf_dim_ordering_tf_kernels_notop.h5\n",
            "58892288/58889256 [==============================] - 0s 0us/step\n",
            "Model: \"vgg16\"\n",
            "_________________________________________________________________\n",
            "Layer (type)                 Output Shape              Param #   \n",
            "=================================================================\n",
            "input_1 (InputLayer)         [(None, 32, 32, 3)]       0         \n",
            "_________________________________________________________________\n",
            "block1_conv1 (Conv2D)        (None, 32, 32, 64)        1792      \n",
            "_________________________________________________________________\n",
            "block1_conv2 (Conv2D)        (None, 32, 32, 64)        36928     \n",
            "_________________________________________________________________\n",
            "block1_pool (MaxPooling2D)   (None, 16, 16, 64)        0         \n",
            "_________________________________________________________________\n",
            "block2_conv1 (Conv2D)        (None, 16, 16, 128)       73856     \n",
            "_________________________________________________________________\n",
            "block2_conv2 (Conv2D)        (None, 16, 16, 128)       147584    \n",
            "_________________________________________________________________\n",
            "block2_pool (MaxPooling2D)   (None, 8, 8, 128)         0         \n",
            "_________________________________________________________________\n",
            "block3_conv1 (Conv2D)        (None, 8, 8, 256)         295168    \n",
            "_________________________________________________________________\n",
            "block3_conv2 (Conv2D)        (None, 8, 8, 256)         590080    \n",
            "_________________________________________________________________\n",
            "block3_conv3 (Conv2D)        (None, 8, 8, 256)         590080    \n",
            "_________________________________________________________________\n",
            "block3_pool (MaxPooling2D)   (None, 4, 4, 256)         0         \n",
            "_________________________________________________________________\n",
            "block4_conv1 (Conv2D)        (None, 4, 4, 512)         1180160   \n",
            "_________________________________________________________________\n",
            "block4_conv2 (Conv2D)        (None, 4, 4, 512)         2359808   \n",
            "_________________________________________________________________\n",
            "block4_conv3 (Conv2D)        (None, 4, 4, 512)         2359808   \n",
            "_________________________________________________________________\n",
            "block4_pool (MaxPooling2D)   (None, 2, 2, 512)         0         \n",
            "_________________________________________________________________\n",
            "block5_conv1 (Conv2D)        (None, 2, 2, 512)         2359808   \n",
            "_________________________________________________________________\n",
            "block5_conv2 (Conv2D)        (None, 2, 2, 512)         2359808   \n",
            "_________________________________________________________________\n",
            "block5_conv3 (Conv2D)        (None, 2, 2, 512)         2359808   \n",
            "_________________________________________________________________\n",
            "block5_pool (MaxPooling2D)   (None, 1, 1, 512)         0         \n",
            "=================================================================\n",
            "Total params: 14,714,688\n",
            "Trainable params: 14,714,688\n",
            "Non-trainable params: 0\n",
            "_________________________________________________________________\n"
          ],
          "name": "stdout"
        }
      ]
    },
    {
      "cell_type": "markdown",
      "metadata": {
        "id": "cHEIs5zWkgPY"
      },
      "source": [
        "##MODELLI"
      ]
    },
    {
      "cell_type": "markdown",
      "metadata": {
        "id": "QMOEvh8j5xn8"
      },
      "source": [
        "Il primo modello addestrato è composto dall'intera rete VGG16 e un strato flatten in modo appiattiere i dati da passare al classificatore SVM."
      ]
    },
    {
      "cell_type": "code",
      "metadata": {
        "colab": {
          "base_uri": "https://localhost:8080/"
        },
        "id": "yazZEsWqYuwp",
        "outputId": "9d72af35-9858-4488-e54e-f91bf3753848"
      },
      "source": [
        "base_model = keras.Sequential()\n",
        "base_model.add(vgg16_model)\n",
        "base_model.add(keras.layers.Flatten())\n",
        "base_model.compile('Adam', 'categorical_crossentropy')\n",
        "base_model.summary()"
      ],
      "execution_count": null,
      "outputs": [
        {
          "output_type": "stream",
          "text": [
            "Model: \"sequential\"\n",
            "_________________________________________________________________\n",
            "Layer (type)                 Output Shape              Param #   \n",
            "=================================================================\n",
            "vgg16 (Functional)           (None, 1, 1, 512)         14714688  \n",
            "_________________________________________________________________\n",
            "flatten (Flatten)            (None, 512)               0         \n",
            "=================================================================\n",
            "Total params: 14,714,688\n",
            "Trainable params: 14,714,688\n",
            "Non-trainable params: 0\n",
            "_________________________________________________________________\n"
          ],
          "name": "stdout"
        }
      ]
    },
    {
      "cell_type": "markdown",
      "metadata": {
        "id": "WoWfoaV56INQ"
      },
      "source": [
        "Il secondo modello addestrato è composto solo dalla parte iniziale della rete VGG16, infatti la rete è stata tagliata al 2° layer di pooling. Infine vi è ancora un strato flatten in modo appiattiere i dati da passare al classificatore SVM. "
      ]
    },
    {
      "cell_type": "code",
      "metadata": {
        "colab": {
          "base_uri": "https://localhost:8080/"
        },
        "id": "dnHPWlaJYtBT",
        "outputId": "1dc7fdf3-d98c-4308-cf50-ffbf16cf746e"
      },
      "source": [
        "model2 = keras.Model(inputs=vgg16_model.input, outputs=vgg16_model.get_layer('block2_pool').output)\n",
        "\n",
        "first_cut_model = keras.Sequential()\n",
        "first_cut_model.add(model2)\n",
        "first_cut_model.add(keras.layers.Flatten())\n",
        "first_cut_model.compile('Adam', 'categorical_crossentropy')\n",
        "first_cut_model.summary()"
      ],
      "execution_count": null,
      "outputs": [
        {
          "output_type": "stream",
          "text": [
            "Model: \"sequential_1\"\n",
            "_________________________________________________________________\n",
            "Layer (type)                 Output Shape              Param #   \n",
            "=================================================================\n",
            "model (Functional)           (None, 8, 8, 128)         260160    \n",
            "_________________________________________________________________\n",
            "flatten_1 (Flatten)          (None, 8192)              0         \n",
            "=================================================================\n",
            "Total params: 260,160\n",
            "Trainable params: 260,160\n",
            "Non-trainable params: 0\n",
            "_________________________________________________________________\n"
          ],
          "name": "stdout"
        }
      ]
    },
    {
      "cell_type": "markdown",
      "metadata": {
        "id": "RdRVsBwM6d1L"
      },
      "source": [
        "Il terzo modello addestrato è composto dalla metà iniziale della rete VGG16 fino al 3° layer di pooling. Infine vi è un strato flatten in modo appiattiere i dati da passare al classificatore SVM."
      ]
    },
    {
      "cell_type": "code",
      "metadata": {
        "colab": {
          "base_uri": "https://localhost:8080/"
        },
        "id": "QO1c6nedZB2Q",
        "outputId": "6054f3b7-7d28-4776-871d-744f330515a4"
      },
      "source": [
        "model3 = keras.Model(inputs=vgg16_model.input, outputs=vgg16_model.get_layer('block3_pool').output)\n",
        "\n",
        "second_cut_model = keras.Sequential()\n",
        "second_cut_model.add(model3)\n",
        "second_cut_model.add(keras.layers.Flatten())\n",
        "second_cut_model.compile('Adam', 'categorical_crossentropy')\n",
        "second_cut_model.summary()"
      ],
      "execution_count": null,
      "outputs": [
        {
          "output_type": "stream",
          "text": [
            "Model: \"sequential_2\"\n",
            "_________________________________________________________________\n",
            "Layer (type)                 Output Shape              Param #   \n",
            "=================================================================\n",
            "model_1 (Functional)         (None, 4, 4, 256)         1735488   \n",
            "_________________________________________________________________\n",
            "flatten_2 (Flatten)          (None, 4096)              0         \n",
            "=================================================================\n",
            "Total params: 1,735,488\n",
            "Trainable params: 1,735,488\n",
            "Non-trainable params: 0\n",
            "_________________________________________________________________\n"
          ],
          "name": "stdout"
        }
      ]
    },
    {
      "cell_type": "markdown",
      "metadata": {
        "id": "10lh-5tb6pBd"
      },
      "source": [
        "Il quarto e ultimo modello addestrato è composto dalla quasi totalità della rete VGG16 fino al 4 layer di pooling (taglio vicino al output). Infine vi è un strato flatten in modo appiattiere i dati da passare al classificatore SVM."
      ]
    },
    {
      "cell_type": "code",
      "metadata": {
        "colab": {
          "base_uri": "https://localhost:8080/"
        },
        "id": "b6Rw6irOhj7N",
        "outputId": "896d1638-a70a-4b11-a770-6970727bc618"
      },
      "source": [
        "model4 = keras.Model(inputs=vgg16_model.input, outputs=vgg16_model.get_layer('block4_pool').output)\n",
        "\n",
        "third_cut_model = keras.Sequential()\n",
        "third_cut_model.add(model4)\n",
        "third_cut_model.add(keras.layers.Flatten())\n",
        "third_cut_model.compile('Adam', 'categorical_crossentropy')\n",
        "third_cut_model.summary()"
      ],
      "execution_count": null,
      "outputs": [
        {
          "output_type": "stream",
          "text": [
            "Model: \"sequential_3\"\n",
            "_________________________________________________________________\n",
            "Layer (type)                 Output Shape              Param #   \n",
            "=================================================================\n",
            "model_2 (Functional)         (None, 2, 2, 512)         7635264   \n",
            "_________________________________________________________________\n",
            "flatten_3 (Flatten)          (None, 2048)              0         \n",
            "=================================================================\n",
            "Total params: 7,635,264\n",
            "Trainable params: 7,635,264\n",
            "Non-trainable params: 0\n",
            "_________________________________________________________________\n"
          ],
          "name": "stdout"
        }
      ]
    },
    {
      "cell_type": "markdown",
      "metadata": {
        "id": "yrf1t2p50ssj"
      },
      "source": [
        "Si può vedere come il numero di parametri utilizzati cresce esponenzialmente  verso gli ultimi blocchi. Questo dipende dall'aumento del numero di filtri usati nei layer convoluzionali nei vari blocchi\\\n",
        "\\\n",
        "L'idea generale della feature extraction, utilizzando una rete pre-trained, è quello di tagliare vicino al output layer quando il nuovo task di classificazione è simile al task per cui è stata addestrata la rete utilizzata.\n",
        "Al contrario se il nuovo task è differente conviene tagliare la rete nei primi layer, in quanto sono più generici."
      ]
    },
    {
      "cell_type": "markdown",
      "metadata": {
        "id": "FMbKBxDJnkX9"
      },
      "source": [
        "![vgg16.png](data:image/png;base64,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)"
      ]
    },
    {
      "cell_type": "markdown",
      "metadata": {
        "id": "S_3P_DChhuFD"
      },
      "source": [
        "##TRAINING"
      ]
    },
    {
      "cell_type": "markdown",
      "metadata": {
        "id": "Kivo0aUx4DmU"
      },
      "source": [
        "E' stata definita una funzione trainSVM per splittare il training set in due: \n",
        "Training set e Validation set. Lo split utilizzato è 0.75. \n",
        "\n",
        "Le feature da passare in input al classificatore SVM sono state prima normalizzate. \n",
        "\n",
        "Gli hyper-parameter utilizzati per il classificatore SVM sono:\n",
        "- Kernel = Lineare\n",
        "- Penalty = L2\n",
        "- Loss = Squared hinge\n",
        "- C = 1\n",
        "- Max iter = 2000\n",
        "\n",
        "Una volta addestrato il classificatore SVM sono state calcolate le performance su training set, su validation set e su test set."
      ]
    },
    {
      "cell_type": "code",
      "metadata": {
        "id": "k5DM6kWQpNov"
      },
      "source": [
        "def trainSVM(x_train, y_train, x_test, y_test):\n",
        "  split = 0.75\n",
        "  splitat = int(len(x_train) * split)\n",
        "\n",
        "  x_train_features = x_train[:splitat]\n",
        "  y_train_features = y_train[:splitat]\n",
        "\n",
        "  x_val_features = x_train[splitat:]\n",
        "  y_val_features = y_train[splitat:]\n",
        "\n",
        "  y_train_features = np.argmax(y_train_features, axis=1)\n",
        "  y_val_features = np.argmax(y_val_features, axis=1)\n",
        "  y_test = np.argmax(y_test, axis=1)\n",
        "\n",
        "  mean = np.mean(x_train_features)\n",
        "  std = np.std(x_train_features)\n",
        "\n",
        "  x_train_features = (x_train_features - mean) / std\n",
        "  x_val_features = (x_val_features - mean) / std\n",
        "  x_test = (x_test - mean) / std\n",
        "\n",
        "  svm = LinearSVC(C = 1, max_iter=2000, loss='squared_hinge')\n",
        "  svm.fit(x_train_features, y_train_features)\n",
        "\n",
        "  train_predictions = svm.predict(x_train_features)\n",
        "  print(\"Train accuracy\", classification_report(y_train_features, train_predictions))\n",
        "\n",
        "  val_predictions = svm.predict(x_val_features)\n",
        "  print(\"Validation accuracy\", classification_report(y_val_features, val_predictions))\n",
        "\n",
        "  test_predictions = svm.predict(x_test)\n",
        "  print(\"Test accuracy\", classification_report(y_test, test_predictions))"
      ],
      "execution_count": null,
      "outputs": []
    },
    {
      "cell_type": "markdown",
      "metadata": {
        "id": "jMdlavIGpPY-"
      },
      "source": [
        "###MODELLO INTERO"
      ]
    },
    {
      "cell_type": "code",
      "metadata": {
        "id": "eYG_IfK2bNSS"
      },
      "source": [
        "train_features = base_model.predict(x_train)\n",
        "test_features = base_model.predict(x_test)"
      ],
      "execution_count": null,
      "outputs": []
    },
    {
      "cell_type": "code",
      "metadata": {
        "colab": {
          "base_uri": "https://localhost:8080/"
        },
        "id": "EJHK4j3cpUzy",
        "outputId": "574b4866-853b-4547-ad9d-fafaabf0a9e5"
      },
      "source": [
        "trainSVM(train_features, y_train, test_features, y_test)"
      ],
      "execution_count": null,
      "outputs": [
        {
          "output_type": "stream",
          "text": [
            "Train accuracy               precision    recall  f1-score   support\n",
            "\n",
            "          95       1.00      1.00      1.00       376\n",
            "          96       1.00      1.00      1.00       366\n",
            "          97       1.00      1.00      1.00       371\n",
            "          98       1.00      1.00      1.00       376\n",
            "          99       1.00      1.00      1.00       386\n",
            "\n",
            "    accuracy                           1.00      1875\n",
            "   macro avg       1.00      1.00      1.00      1875\n",
            "weighted avg       1.00      1.00      1.00      1875\n",
            "\n",
            "Validation accuracy               precision    recall  f1-score   support\n",
            "\n",
            "          95       0.91      0.90      0.91       124\n",
            "          96       0.95      0.89      0.92       134\n",
            "          97       0.80      0.83      0.81       129\n",
            "          98       0.84      0.81      0.83       124\n",
            "          99       0.83      0.89      0.86       114\n",
            "\n",
            "    accuracy                           0.87       625\n",
            "   macro avg       0.87      0.87      0.87       625\n",
            "weighted avg       0.87      0.87      0.87       625\n",
            "\n",
            "Test accuracy               precision    recall  f1-score   support\n",
            "\n",
            "          95       0.91      0.86      0.88       100\n",
            "          96       0.95      0.91      0.93       100\n",
            "          97       0.74      0.86      0.79       100\n",
            "          98       0.81      0.76      0.78       100\n",
            "          99       0.88      0.86      0.87       100\n",
            "\n",
            "    accuracy                           0.85       500\n",
            "   macro avg       0.85      0.85      0.85       500\n",
            "weighted avg       0.85      0.85      0.85       500\n",
            "\n"
          ],
          "name": "stdout"
        }
      ]
    },
    {
      "cell_type": "markdown",
      "metadata": {
        "id": "tv_id_qzao1t"
      },
      "source": [
        "###PRIMO TAGLIO"
      ]
    },
    {
      "cell_type": "code",
      "metadata": {
        "id": "v_eBOkmDZ_OQ"
      },
      "source": [
        "train_features = first_cut_model.predict(x_train)\n",
        "test_features = first_cut_model.predict(x_test)"
      ],
      "execution_count": null,
      "outputs": []
    },
    {
      "cell_type": "code",
      "metadata": {
        "colab": {
          "base_uri": "https://localhost:8080/"
        },
        "id": "nbE6rx40lY1F",
        "outputId": "908f8646-17ae-4b1d-a81d-12b15a3351c4"
      },
      "source": [
        "trainSVM(train_features, y_train, test_features, y_test)"
      ],
      "execution_count": null,
      "outputs": [
        {
          "output_type": "stream",
          "text": [
            "Train accuracy               precision    recall  f1-score   support\n",
            "\n",
            "          95       1.00      1.00      1.00       376\n",
            "          96       1.00      1.00      1.00       366\n",
            "          97       1.00      1.00      1.00       371\n",
            "          98       1.00      1.00      1.00       376\n",
            "          99       1.00      1.00      1.00       386\n",
            "\n",
            "    accuracy                           1.00      1875\n",
            "   macro avg       1.00      1.00      1.00      1875\n",
            "weighted avg       1.00      1.00      1.00      1875\n",
            "\n",
            "Validation accuracy               precision    recall  f1-score   support\n",
            "\n",
            "          95       0.90      0.89      0.89       124\n",
            "          96       0.97      0.97      0.97       134\n",
            "          97       0.82      0.88      0.85       129\n",
            "          98       0.82      0.78      0.80       124\n",
            "          99       0.82      0.82      0.82       114\n",
            "\n",
            "    accuracy                           0.87       625\n",
            "   macro avg       0.87      0.87      0.87       625\n",
            "weighted avg       0.87      0.87      0.87       625\n",
            "\n",
            "Test accuracy               precision    recall  f1-score   support\n",
            "\n",
            "          95       0.86      0.90      0.88       100\n",
            "          96       0.94      0.96      0.95       100\n",
            "          97       0.86      0.80      0.83       100\n",
            "          98       0.83      0.80      0.82       100\n",
            "          99       0.80      0.83      0.81       100\n",
            "\n",
            "    accuracy                           0.86       500\n",
            "   macro avg       0.86      0.86      0.86       500\n",
            "weighted avg       0.86      0.86      0.86       500\n",
            "\n"
          ],
          "name": "stdout"
        }
      ]
    },
    {
      "cell_type": "markdown",
      "metadata": {
        "id": "G4cNG1Cvbopi"
      },
      "source": [
        "###SECONDO TAGLIO"
      ]
    },
    {
      "cell_type": "code",
      "metadata": {
        "id": "hEDxtLhwbpC-"
      },
      "source": [
        "train_features = second_cut_model.predict(x_train)\n",
        "test_features = second_cut_model.predict(x_test)"
      ],
      "execution_count": null,
      "outputs": []
    },
    {
      "cell_type": "code",
      "metadata": {
        "colab": {
          "base_uri": "https://localhost:8080/"
        },
        "id": "l16dTQ5TliX-",
        "outputId": "4dc1d5c5-cc3e-4db9-c4d5-8fd865261b72"
      },
      "source": [
        "trainSVM(train_features, y_train, test_features, y_test)"
      ],
      "execution_count": null,
      "outputs": [
        {
          "output_type": "stream",
          "text": [
            "Train accuracy               precision    recall  f1-score   support\n",
            "\n",
            "          95       1.00      1.00      1.00       376\n",
            "          96       1.00      1.00      1.00       366\n",
            "          97       1.00      1.00      1.00       371\n",
            "          98       1.00      1.00      1.00       376\n",
            "          99       1.00      1.00      1.00       386\n",
            "\n",
            "    accuracy                           1.00      1875\n",
            "   macro avg       1.00      1.00      1.00      1875\n",
            "weighted avg       1.00      1.00      1.00      1875\n",
            "\n",
            "Validation accuracy               precision    recall  f1-score   support\n",
            "\n",
            "          95       0.95      0.97      0.96       124\n",
            "          96       1.00      0.96      0.98       134\n",
            "          97       0.87      0.91      0.89       129\n",
            "          98       0.93      0.88      0.90       124\n",
            "          99       0.93      0.97      0.95       114\n",
            "\n",
            "    accuracy                           0.94       625\n",
            "   macro avg       0.94      0.94      0.94       625\n",
            "weighted avg       0.94      0.94      0.94       625\n",
            "\n",
            "Test accuracy               precision    recall  f1-score   support\n",
            "\n",
            "          95       0.95      0.93      0.94       100\n",
            "          96       0.98      0.97      0.97       100\n",
            "          97       0.91      0.89      0.90       100\n",
            "          98       0.91      0.89      0.90       100\n",
            "          99       0.88      0.94      0.91       100\n",
            "\n",
            "    accuracy                           0.92       500\n",
            "   macro avg       0.92      0.92      0.92       500\n",
            "weighted avg       0.92      0.92      0.92       500\n",
            "\n"
          ],
          "name": "stdout"
        }
      ]
    },
    {
      "cell_type": "markdown",
      "metadata": {
        "id": "iV-tYAbNpnXR"
      },
      "source": [
        "###TERZO TAGLIO"
      ]
    },
    {
      "cell_type": "code",
      "metadata": {
        "id": "oGvLniCSpeyJ"
      },
      "source": [
        "train_features = third_cut_model.predict(x_train)\n",
        "test_features = third_cut_model.predict(x_test)"
      ],
      "execution_count": null,
      "outputs": []
    },
    {
      "cell_type": "code",
      "metadata": {
        "colab": {
          "base_uri": "https://localhost:8080/"
        },
        "id": "vnNWDXbPpsfX",
        "outputId": "8fda20fa-f206-44f8-959b-37fdbe2964f6"
      },
      "source": [
        "trainSVM(train_features, y_train, test_features, y_test)"
      ],
      "execution_count": null,
      "outputs": [
        {
          "output_type": "stream",
          "text": [
            "Train accuracy               precision    recall  f1-score   support\n",
            "\n",
            "          95       1.00      1.00      1.00       376\n",
            "          96       1.00      1.00      1.00       366\n",
            "          97       1.00      1.00      1.00       371\n",
            "          98       1.00      1.00      1.00       376\n",
            "          99       1.00      1.00      1.00       386\n",
            "\n",
            "    accuracy                           1.00      1875\n",
            "   macro avg       1.00      1.00      1.00      1875\n",
            "weighted avg       1.00      1.00      1.00      1875\n",
            "\n",
            "Validation accuracy               precision    recall  f1-score   support\n",
            "\n",
            "          95       0.95      0.97      0.96       124\n",
            "          96       1.00      0.96      0.98       134\n",
            "          97       0.88      0.92      0.90       129\n",
            "          98       0.93      0.85      0.89       124\n",
            "          99       0.91      0.96      0.94       114\n",
            "\n",
            "    accuracy                           0.93       625\n",
            "   macro avg       0.93      0.93      0.93       625\n",
            "weighted avg       0.93      0.93      0.93       625\n",
            "\n",
            "Test accuracy               precision    recall  f1-score   support\n",
            "\n",
            "          95       0.95      0.94      0.94       100\n",
            "          96       0.97      0.97      0.97       100\n",
            "          97       0.89      0.89      0.89       100\n",
            "          98       0.90      0.91      0.91       100\n",
            "          99       0.92      0.92      0.92       100\n",
            "\n",
            "    accuracy                           0.93       500\n",
            "   macro avg       0.93      0.93      0.93       500\n",
            "weighted avg       0.93      0.93      0.93       500\n",
            "\n"
          ],
          "name": "stdout"
        }
      ]
    },
    {
      "cell_type": "markdown",
      "metadata": {
        "id": "_QCcM60M_pmX"
      },
      "source": [
        "##PERFORMANCE ACCURACY"
      ]
    },
    {
      "cell_type": "markdown",
      "metadata": {
        "id": "qLCCY7vt76xZ"
      },
      "source": [
        "| | Training Accuracy | Validation Accuracy  | Test Accuracy |\n",
        "| --- | --- | --- | --- |\n",
        "| First Cutted Model  | 1.0 | 0.868 | 0.858 |\n",
        "| Second Cutted Model | 1.0 | 0.936 | 0.924 |\n",
        "| Third Cutted Model  | 1.0 | 0.932 | 0.926 |\n",
        "| Entire Model        | 1.0 | 0.865 | 0.850 |"
      ]
    },
    {
      "cell_type": "markdown",
      "metadata": {
        "id": "m6pa3yZT_s6E"
      },
      "source": [
        "E' possibile notare come le performance maggiori si ottengono nel modello secondo cutted e third cutted, cioè modelli in cui la rete vgg-16 è stata tagliata molto vicino all'output layer. Mentre il modello in cui è stato eseguito nei primi layer risulta meno accurato. Così come nel caso del modello formato dall'intera rete vgg-16, che ha le performance peggiori tra tutti i modelli presi in esame.\n",
        "\n",
        "Questo è riconducibile al fatto che il dataset del nuovo task è molto simile al dataset su cui è stata addestrata la rete VGG-16. Come detto in precedenza per task simili si preferisce tagliare la rete feature extraction verso i layer più vicini all'output."
      ]
    }
  ]
}